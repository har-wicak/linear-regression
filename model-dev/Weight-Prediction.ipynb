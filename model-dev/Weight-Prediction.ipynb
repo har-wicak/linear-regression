{
 "cells": [
  {
   "cell_type": "code",
   "execution_count": 1,
   "id": "46fd6038",
   "metadata": {},
   "outputs": [],
   "source": [
    "import pandas as pd\n",
    "import numpy as np\n",
    "import numpy as np\n",
    "from sklearn.preprocessing import LabelEncoder, StandardScaler\n",
    "from sklearn.model_selection import train_test_split\n",
    "from sklearn.linear_model import LinearRegression\n",
    "from sklearn.metrics import r2_score\n",
    "import joblib"
   ]
  },
  {
   "cell_type": "code",
   "execution_count": 2,
   "id": "aee0304c",
   "metadata": {},
   "outputs": [],
   "source": [
    "df=pd.read_csv('datasets/weight-height.csv')"
   ]
  },
  {
   "cell_type": "code",
   "execution_count": 3,
   "id": "e7dca5bd",
   "metadata": {},
   "outputs": [
    {
     "data": {
      "text/plain": [
       "Index(['Gender', 'Height', 'Weight'], dtype='object')"
      ]
     },
     "execution_count": 3,
     "metadata": {},
     "output_type": "execute_result"
    }
   ],
   "source": [
    "df.columns"
   ]
  },
  {
   "cell_type": "code",
   "execution_count": 4,
   "id": "d49fc00a",
   "metadata": {},
   "outputs": [
    {
     "data": {
      "text/html": [
       "<div>\n",
       "<style scoped>\n",
       "    .dataframe tbody tr th:only-of-type {\n",
       "        vertical-align: middle;\n",
       "    }\n",
       "\n",
       "    .dataframe tbody tr th {\n",
       "        vertical-align: top;\n",
       "    }\n",
       "\n",
       "    .dataframe thead th {\n",
       "        text-align: right;\n",
       "    }\n",
       "</style>\n",
       "<table border=\"1\" class=\"dataframe\">\n",
       "  <thead>\n",
       "    <tr style=\"text-align: right;\">\n",
       "      <th></th>\n",
       "      <th>Gender</th>\n",
       "      <th>Height</th>\n",
       "      <th>Weight</th>\n",
       "    </tr>\n",
       "  </thead>\n",
       "  <tbody>\n",
       "    <tr>\n",
       "      <th>0</th>\n",
       "      <td>Male</td>\n",
       "      <td>73.847017</td>\n",
       "      <td>241.893563</td>\n",
       "    </tr>\n",
       "    <tr>\n",
       "      <th>1</th>\n",
       "      <td>Male</td>\n",
       "      <td>68.781904</td>\n",
       "      <td>162.310473</td>\n",
       "    </tr>\n",
       "    <tr>\n",
       "      <th>2</th>\n",
       "      <td>Male</td>\n",
       "      <td>74.110105</td>\n",
       "      <td>212.740856</td>\n",
       "    </tr>\n",
       "    <tr>\n",
       "      <th>3</th>\n",
       "      <td>Male</td>\n",
       "      <td>71.730978</td>\n",
       "      <td>220.042470</td>\n",
       "    </tr>\n",
       "    <tr>\n",
       "      <th>4</th>\n",
       "      <td>Male</td>\n",
       "      <td>69.881796</td>\n",
       "      <td>206.349801</td>\n",
       "    </tr>\n",
       "  </tbody>\n",
       "</table>\n",
       "</div>"
      ],
      "text/plain": [
       "  Gender     Height      Weight\n",
       "0   Male  73.847017  241.893563\n",
       "1   Male  68.781904  162.310473\n",
       "2   Male  74.110105  212.740856\n",
       "3   Male  71.730978  220.042470\n",
       "4   Male  69.881796  206.349801"
      ]
     },
     "execution_count": 4,
     "metadata": {},
     "output_type": "execute_result"
    }
   ],
   "source": [
    "df.head()"
   ]
  },
  {
   "cell_type": "code",
   "execution_count": 5,
   "id": "094ab4d1",
   "metadata": {},
   "outputs": [
    {
     "name": "stdout",
     "output_type": "stream",
     "text": [
      "32.108439006519546\n",
      "161.44035683283076\n"
     ]
    }
   ],
   "source": [
    "std_weight = df.Weight.std()\n",
    "mean_weight = df.Weight.mean()\n",
    "\n",
    "print(std_weight)\n",
    "print(mean_weight)"
   ]
  },
  {
   "cell_type": "code",
   "execution_count": 6,
   "id": "10f30773",
   "metadata": {},
   "outputs": [],
   "source": [
    "std_scaler_height = StandardScaler()\n",
    "std_scaler_weight = StandardScaler()\n",
    "\n",
    "label_enc = LabelEncoder()\n",
    "\n",
    "df.iloc[:, 1:2] = std_scaler_height.fit_transform(df.iloc[:, 1:2])\n",
    "df.iloc[:, 2:3] = std_scaler_weight.fit_transform(df.iloc[:, 2:3])\n",
    "df.Gender = label_enc.fit_transform(df.Gender)"
   ]
  },
  {
   "cell_type": "code",
   "execution_count": 7,
   "id": "14ca2ef4",
   "metadata": {},
   "outputs": [
    {
     "name": "stdout",
     "output_type": "stream",
     "text": [
      "{'Female': 0, 'Male': 1}\n"
     ]
    }
   ],
   "source": [
    "gender_mapping = dict(zip(label_enc.classes_, label_enc.transform(label_enc.classes_)))\n",
    "print(gender_mapping)"
   ]
  },
  {
   "cell_type": "code",
   "execution_count": 8,
   "id": "79cbfb4e",
   "metadata": {},
   "outputs": [
    {
     "data": {
      "text/html": [
       "<div>\n",
       "<style scoped>\n",
       "    .dataframe tbody tr th:only-of-type {\n",
       "        vertical-align: middle;\n",
       "    }\n",
       "\n",
       "    .dataframe tbody tr th {\n",
       "        vertical-align: top;\n",
       "    }\n",
       "\n",
       "    .dataframe thead th {\n",
       "        text-align: right;\n",
       "    }\n",
       "</style>\n",
       "<table border=\"1\" class=\"dataframe\">\n",
       "  <thead>\n",
       "    <tr style=\"text-align: right;\">\n",
       "      <th></th>\n",
       "      <th>Gender</th>\n",
       "      <th>Height</th>\n",
       "      <th>Weight</th>\n",
       "    </tr>\n",
       "  </thead>\n",
       "  <tbody>\n",
       "    <tr>\n",
       "      <th>5054</th>\n",
       "      <td>0</td>\n",
       "      <td>-1.408047</td>\n",
       "      <td>-1.370978</td>\n",
       "    </tr>\n",
       "    <tr>\n",
       "      <th>7557</th>\n",
       "      <td>0</td>\n",
       "      <td>-1.115967</td>\n",
       "      <td>-1.229905</td>\n",
       "    </tr>\n",
       "    <tr>\n",
       "      <th>6708</th>\n",
       "      <td>0</td>\n",
       "      <td>0.166512</td>\n",
       "      <td>-0.302276</td>\n",
       "    </tr>\n",
       "    <tr>\n",
       "      <th>7954</th>\n",
       "      <td>0</td>\n",
       "      <td>-0.192636</td>\n",
       "      <td>-0.799133</td>\n",
       "    </tr>\n",
       "    <tr>\n",
       "      <th>4590</th>\n",
       "      <td>1</td>\n",
       "      <td>0.582533</td>\n",
       "      <td>1.256481</td>\n",
       "    </tr>\n",
       "    <tr>\n",
       "      <th>9506</th>\n",
       "      <td>0</td>\n",
       "      <td>-0.666686</td>\n",
       "      <td>-1.047492</td>\n",
       "    </tr>\n",
       "    <tr>\n",
       "      <th>3723</th>\n",
       "      <td>1</td>\n",
       "      <td>1.366279</td>\n",
       "      <td>0.994354</td>\n",
       "    </tr>\n",
       "    <tr>\n",
       "      <th>1763</th>\n",
       "      <td>1</td>\n",
       "      <td>-0.090964</td>\n",
       "      <td>0.410247</td>\n",
       "    </tr>\n",
       "    <tr>\n",
       "      <th>2397</th>\n",
       "      <td>1</td>\n",
       "      <td>0.049529</td>\n",
       "      <td>-0.212191</td>\n",
       "    </tr>\n",
       "    <tr>\n",
       "      <th>7239</th>\n",
       "      <td>0</td>\n",
       "      <td>-0.558898</td>\n",
       "      <td>-0.761173</td>\n",
       "    </tr>\n",
       "  </tbody>\n",
       "</table>\n",
       "</div>"
      ],
      "text/plain": [
       "      Gender    Height    Weight\n",
       "5054       0 -1.408047 -1.370978\n",
       "7557       0 -1.115967 -1.229905\n",
       "6708       0  0.166512 -0.302276\n",
       "7954       0 -0.192636 -0.799133\n",
       "4590       1  0.582533  1.256481\n",
       "9506       0 -0.666686 -1.047492\n",
       "3723       1  1.366279  0.994354\n",
       "1763       1 -0.090964  0.410247\n",
       "2397       1  0.049529 -0.212191\n",
       "7239       0 -0.558898 -0.761173"
      ]
     },
     "execution_count": 8,
     "metadata": {},
     "output_type": "execute_result"
    }
   ],
   "source": [
    "df.sample(10)"
   ]
  },
  {
   "cell_type": "code",
   "execution_count": 9,
   "id": "b25ed337",
   "metadata": {},
   "outputs": [],
   "source": [
    "X = df.iloc[:, :-1]\n",
    "y = df.iloc[:, -1]"
   ]
  },
  {
   "cell_type": "code",
   "execution_count": 10,
   "id": "dc966a23",
   "metadata": {},
   "outputs": [
    {
     "data": {
      "text/html": [
       "<div>\n",
       "<style scoped>\n",
       "    .dataframe tbody tr th:only-of-type {\n",
       "        vertical-align: middle;\n",
       "    }\n",
       "\n",
       "    .dataframe tbody tr th {\n",
       "        vertical-align: top;\n",
       "    }\n",
       "\n",
       "    .dataframe thead th {\n",
       "        text-align: right;\n",
       "    }\n",
       "</style>\n",
       "<table border=\"1\" class=\"dataframe\">\n",
       "  <thead>\n",
       "    <tr style=\"text-align: right;\">\n",
       "      <th></th>\n",
       "      <th>Gender</th>\n",
       "      <th>Height</th>\n",
       "    </tr>\n",
       "  </thead>\n",
       "  <tbody>\n",
       "    <tr>\n",
       "      <th>0</th>\n",
       "      <td>1</td>\n",
       "      <td>1.944061</td>\n",
       "    </tr>\n",
       "    <tr>\n",
       "      <th>1</th>\n",
       "      <td>1</td>\n",
       "      <td>0.627537</td>\n",
       "    </tr>\n",
       "    <tr>\n",
       "      <th>2</th>\n",
       "      <td>1</td>\n",
       "      <td>2.012443</td>\n",
       "    </tr>\n",
       "    <tr>\n",
       "      <th>3</th>\n",
       "      <td>1</td>\n",
       "      <td>1.394060</td>\n",
       "    </tr>\n",
       "    <tr>\n",
       "      <th>4</th>\n",
       "      <td>1</td>\n",
       "      <td>0.913421</td>\n",
       "    </tr>\n",
       "    <tr>\n",
       "      <th>...</th>\n",
       "      <td>...</td>\n",
       "      <td>...</td>\n",
       "    </tr>\n",
       "    <tr>\n",
       "      <th>9995</th>\n",
       "      <td>0</td>\n",
       "      <td>-0.050660</td>\n",
       "    </tr>\n",
       "    <tr>\n",
       "      <th>9996</th>\n",
       "      <td>0</td>\n",
       "      <td>0.181839</td>\n",
       "    </tr>\n",
       "    <tr>\n",
       "      <th>9997</th>\n",
       "      <td>0</td>\n",
       "      <td>-0.649688</td>\n",
       "    </tr>\n",
       "    <tr>\n",
       "      <th>9998</th>\n",
       "      <td>0</td>\n",
       "      <td>0.693125</td>\n",
       "    </tr>\n",
       "    <tr>\n",
       "      <th>9999</th>\n",
       "      <td>0</td>\n",
       "      <td>-1.149708</td>\n",
       "    </tr>\n",
       "  </tbody>\n",
       "</table>\n",
       "<p>10000 rows × 2 columns</p>\n",
       "</div>"
      ],
      "text/plain": [
       "      Gender    Height\n",
       "0          1  1.944061\n",
       "1          1  0.627537\n",
       "2          1  2.012443\n",
       "3          1  1.394060\n",
       "4          1  0.913421\n",
       "...      ...       ...\n",
       "9995       0 -0.050660\n",
       "9996       0  0.181839\n",
       "9997       0 -0.649688\n",
       "9998       0  0.693125\n",
       "9999       0 -1.149708\n",
       "\n",
       "[10000 rows x 2 columns]"
      ]
     },
     "execution_count": 10,
     "metadata": {},
     "output_type": "execute_result"
    }
   ],
   "source": [
    "X"
   ]
  },
  {
   "cell_type": "code",
   "execution_count": 11,
   "id": "111319c5",
   "metadata": {},
   "outputs": [
    {
     "data": {
      "text/plain": [
       "0       2.505797\n",
       "1       0.027101\n",
       "2       1.597806\n",
       "3       1.825222\n",
       "4       1.398750\n",
       "          ...   \n",
       "9995   -0.768151\n",
       "9996    0.293631\n",
       "9997   -1.026730\n",
       "9998    0.075127\n",
       "9999   -1.488507\n",
       "Name: Weight, Length: 10000, dtype: float64"
      ]
     },
     "execution_count": 11,
     "metadata": {},
     "output_type": "execute_result"
    }
   ],
   "source": [
    "y"
   ]
  },
  {
   "cell_type": "code",
   "execution_count": 12,
   "id": "4dc5ba58",
   "metadata": {},
   "outputs": [],
   "source": [
    "lin_regr = LinearRegression()\n",
    "X_train, X_test, y_train, y_test = train_test_split(X, y, test_size=0.3, random_state = 42)\n",
    "\n",
    "lin_regr_model = lin_regr.fit(X_train, y_train)"
   ]
  },
  {
   "cell_type": "code",
   "execution_count": 13,
   "id": "1d407683",
   "metadata": {},
   "outputs": [],
   "source": [
    "accuracy = lin_regr_model.score(X_test, y_test)"
   ]
  },
  {
   "cell_type": "code",
   "execution_count": 14,
   "id": "ab6f92c9",
   "metadata": {},
   "outputs": [
    {
     "name": "stdout",
     "output_type": "stream",
     "text": [
      "Akurasi Model: 90.33211309502138%\n"
     ]
    }
   ],
   "source": [
    "print(f\"Akurasi Model: {accuracy * 100}%\")"
   ]
  },
  {
   "cell_type": "code",
   "execution_count": 15,
   "id": "831e586c",
   "metadata": {},
   "outputs": [
    {
     "data": {
      "text/plain": [
       "0.9033211309502138"
      ]
     },
     "execution_count": 15,
     "metadata": {},
     "output_type": "execute_result"
    }
   ],
   "source": [
    "y_pred=lin_regr_model.predict(X_test)\n",
    "r2_score(y_test, y_pred)"
   ]
  },
  {
   "cell_type": "code",
   "execution_count": 16,
   "id": "570b7b90",
   "metadata": {
    "scrolled": true
   },
   "outputs": [
    {
     "name": "stdout",
     "output_type": "stream",
     "text": [
      "[[136.77745418]]\n"
     ]
    }
   ],
   "source": [
    "print(std_scaler_weight.inverse_transform(y[9995].reshape(-1, 1)))"
   ]
  },
  {
   "cell_type": "code",
   "execution_count": 17,
   "id": "40100e94",
   "metadata": {},
   "outputs": [
    {
     "data": {
      "text/plain": [
       "(1, 2)"
      ]
     },
     "execution_count": 17,
     "metadata": {},
     "output_type": "execute_result"
    }
   ],
   "source": [
    "np.array(X[9995:9996]).shape"
   ]
  },
  {
   "cell_type": "code",
   "execution_count": 18,
   "id": "afcc91da",
   "metadata": {},
   "outputs": [
    {
     "data": {
      "text/html": [
       "<div>\n",
       "<style scoped>\n",
       "    .dataframe tbody tr th:only-of-type {\n",
       "        vertical-align: middle;\n",
       "    }\n",
       "\n",
       "    .dataframe tbody tr th {\n",
       "        vertical-align: top;\n",
       "    }\n",
       "\n",
       "    .dataframe thead th {\n",
       "        text-align: right;\n",
       "    }\n",
       "</style>\n",
       "<table border=\"1\" class=\"dataframe\">\n",
       "  <thead>\n",
       "    <tr style=\"text-align: right;\">\n",
       "      <th></th>\n",
       "      <th>Gender</th>\n",
       "      <th>Height</th>\n",
       "    </tr>\n",
       "  </thead>\n",
       "  <tbody>\n",
       "    <tr>\n",
       "      <th>9995</th>\n",
       "      <td>0</td>\n",
       "      <td>-0.05066</td>\n",
       "    </tr>\n",
       "  </tbody>\n",
       "</table>\n",
       "</div>"
      ],
      "text/plain": [
       "      Gender   Height\n",
       "9995       0 -0.05066"
      ]
     },
     "execution_count": 18,
     "metadata": {},
     "output_type": "execute_result"
    }
   ],
   "source": [
    "X[9995:9996]"
   ]
  },
  {
   "cell_type": "code",
   "execution_count": 19,
   "id": "f35933d4",
   "metadata": {},
   "outputs": [
    {
     "name": "stdout",
     "output_type": "stream",
     "text": [
      "[[150.55959695]]\n"
     ]
    }
   ],
   "source": [
    "print(std_scaler_weight.inverse_transform(lin_regr_model.predict(X[9995:9996]).reshape(-1, 1)))"
   ]
  },
  {
   "cell_type": "code",
   "execution_count": 20,
   "id": "0b0c6cb1",
   "metadata": {},
   "outputs": [
    {
     "data": {
      "text/plain": [
       "['height-to-weight-prediction-linear-regression.pkl']"
      ]
     },
     "execution_count": 20,
     "metadata": {},
     "output_type": "execute_result"
    }
   ],
   "source": [
    "joblib.dump((lin_regr_model, std_scaler_height, std_scaler_weight), \"height-to-weight-prediction-linear-regression.pkl\")"
   ]
  },
  {
   "cell_type": "code",
   "execution_count": 21,
   "id": "b57337af",
   "metadata": {},
   "outputs": [],
   "source": [
    "male_X_test = np.array(X_test[X_test.Gender == 1])\n",
    "male_X_test_height_only = X_test[X_test.Gender == 1]['Height']\n",
    "indices_male_X_test = male_X_test_height_only.index\n",
    "male_y_test = y_test[indices_male_X_test]"
   ]
  },
  {
   "cell_type": "code",
   "execution_count": 22,
   "id": "48d1bf70",
   "metadata": {},
   "outputs": [],
   "source": [
    "male_y_test = std_scaler_weight.inverse_transform(np.array(male_y_test).reshape(-1, 1))"
   ]
  },
  {
   "cell_type": "code",
   "execution_count": 23,
   "id": "25f79ede",
   "metadata": {
    "scrolled": true
   },
   "outputs": [],
   "source": [
    "male_X_test_height_only = std_scaler_height.inverse_transform(np.array(male_X_test_height_only).reshape(-1, 1))"
   ]
  },
  {
   "cell_type": "code",
   "execution_count": 24,
   "id": "82da8d63",
   "metadata": {},
   "outputs": [],
   "source": [
    "female_X_test = np.array(X_test[X_test.Gender == 0])\n",
    "female_X_test_height_only = X_test[X_test.Gender == 0]['Height']\n",
    "indices_female_X_test = female_X_test_height_only.index\n",
    "female_y_test = y_test[indices_female_X_test]"
   ]
  },
  {
   "cell_type": "code",
   "execution_count": 25,
   "id": "3407542b",
   "metadata": {
    "scrolled": true
   },
   "outputs": [],
   "source": [
    "female_y_test = std_scaler_weight.inverse_transform(np.array(female_y_test).reshape(-1, 1))"
   ]
  },
  {
   "cell_type": "code",
   "execution_count": 26,
   "id": "14c35a0c",
   "metadata": {},
   "outputs": [],
   "source": [
    "female_X_test_height_only = std_scaler_height.inverse_transform(np.array(female_X_test_height_only).reshape(-1, 1))"
   ]
  },
  {
   "cell_type": "code",
   "execution_count": 27,
   "id": "9e5891fd",
   "metadata": {},
   "outputs": [
    {
     "name": "stderr",
     "output_type": "stream",
     "text": [
      "C:\\Users\\harwi\\anaconda3\\envs\\flask\\lib\\site-packages\\sklearn\\base.py:450: UserWarning: X does not have valid feature names, but LinearRegression was fitted with feature names\n",
      "  warnings.warn(\n",
      "C:\\Users\\harwi\\anaconda3\\envs\\flask\\lib\\site-packages\\sklearn\\base.py:450: UserWarning: X does not have valid feature names, but LinearRegression was fitted with feature names\n",
      "  warnings.warn(\n"
     ]
    }
   ],
   "source": [
    "male_pred = lin_regr_model.predict(male_X_test)\n",
    "female_pred = lin_regr_model.predict(female_X_test)"
   ]
  },
  {
   "cell_type": "code",
   "execution_count": 28,
   "id": "1d5e42e2",
   "metadata": {},
   "outputs": [],
   "source": [
    "male_X_test_height_only = male_X_test_height_only.flatten().tolist()"
   ]
  },
  {
   "cell_type": "code",
   "execution_count": 29,
   "id": "085d65d9",
   "metadata": {},
   "outputs": [],
   "source": [
    "male_y_test = male_y_test.flatten().tolist()"
   ]
  },
  {
   "cell_type": "code",
   "execution_count": 30,
   "id": "0283e6a6",
   "metadata": {},
   "outputs": [],
   "source": [
    "male_pred = std_scaler_weight.inverse_transform(np.array(male_pred).reshape(-1, 1))\n",
    "male_pred = male_pred.flatten().tolist()"
   ]
  },
  {
   "cell_type": "code",
   "execution_count": 31,
   "id": "969fc3cd",
   "metadata": {},
   "outputs": [],
   "source": [
    "female_y_test = female_y_test.flatten().tolist()"
   ]
  },
  {
   "cell_type": "code",
   "execution_count": 32,
   "id": "bfb6f26b",
   "metadata": {},
   "outputs": [],
   "source": [
    "female_X_test_height_only = female_X_test_height_only.flatten().tolist()"
   ]
  },
  {
   "cell_type": "code",
   "execution_count": 33,
   "id": "781a8294",
   "metadata": {
    "scrolled": true
   },
   "outputs": [],
   "source": [
    "female_pred = std_scaler_weight.inverse_transform(np.array(female_pred).reshape(-1, 1))\n",
    "female_pred = female_pred.flatten().tolist()"
   ]
  },
  {
   "cell_type": "code",
   "execution_count": 34,
   "id": "d1cce15a",
   "metadata": {},
   "outputs": [],
   "source": [
    "male_data = {'male_X_test_height_only': male_X_test_height_only, \n",
    "             'male_y_test': male_y_test,\n",
    "             'male_pred': male_pred}\n",
    "df_male = pd.DataFrame(data=male_data)\n",
    "# df_male = pd.DataFrame(np.array([male_X_test_height_only, male_y_test, male_pred]), columns=['male_X_test_height_only', 'male_y_test', 'male_pred'])"
   ]
  },
  {
   "cell_type": "code",
   "execution_count": 35,
   "id": "62ad562b",
   "metadata": {},
   "outputs": [],
   "source": [
    "female_data = {'female_X_test_height_only': female_X_test_height_only, \n",
    "             'female_y_test': female_y_test,\n",
    "             'female_pred': female_pred}\n",
    "df_female = pd.DataFrame(data=female_data)"
   ]
  },
  {
   "cell_type": "code",
   "execution_count": 36,
   "id": "65ac126b",
   "metadata": {},
   "outputs": [
    {
     "data": {
      "text/html": [
       "<div>\n",
       "<style scoped>\n",
       "    .dataframe tbody tr th:only-of-type {\n",
       "        vertical-align: middle;\n",
       "    }\n",
       "\n",
       "    .dataframe tbody tr th {\n",
       "        vertical-align: top;\n",
       "    }\n",
       "\n",
       "    .dataframe thead th {\n",
       "        text-align: right;\n",
       "    }\n",
       "</style>\n",
       "<table border=\"1\" class=\"dataframe\">\n",
       "  <thead>\n",
       "    <tr style=\"text-align: right;\">\n",
       "      <th></th>\n",
       "      <th>male_X_test_height_only</th>\n",
       "      <th>male_y_test</th>\n",
       "      <th>male_pred</th>\n",
       "    </tr>\n",
       "  </thead>\n",
       "  <tbody>\n",
       "    <tr>\n",
       "      <th>0</th>\n",
       "      <td>68.829334</td>\n",
       "      <td>195.162042</td>\n",
       "      <td>185.802675</td>\n",
       "    </tr>\n",
       "    <tr>\n",
       "      <th>1</th>\n",
       "      <td>66.398128</td>\n",
       "      <td>170.217451</td>\n",
       "      <td>171.308295</td>\n",
       "    </tr>\n",
       "    <tr>\n",
       "      <th>2</th>\n",
       "      <td>71.929340</td>\n",
       "      <td>215.049660</td>\n",
       "      <td>204.284318</td>\n",
       "    </tr>\n",
       "    <tr>\n",
       "      <th>3</th>\n",
       "      <td>67.042903</td>\n",
       "      <td>182.721452</td>\n",
       "      <td>175.152318</td>\n",
       "    </tr>\n",
       "    <tr>\n",
       "      <th>4</th>\n",
       "      <td>66.045444</td>\n",
       "      <td>169.326284</td>\n",
       "      <td>169.205658</td>\n",
       "    </tr>\n",
       "    <tr>\n",
       "      <th>...</th>\n",
       "      <td>...</td>\n",
       "      <td>...</td>\n",
       "      <td>...</td>\n",
       "    </tr>\n",
       "    <tr>\n",
       "      <th>1532</th>\n",
       "      <td>70.309778</td>\n",
       "      <td>208.496497</td>\n",
       "      <td>194.628798</td>\n",
       "    </tr>\n",
       "    <tr>\n",
       "      <th>1533</th>\n",
       "      <td>66.276138</td>\n",
       "      <td>174.209764</td>\n",
       "      <td>170.581015</td>\n",
       "    </tr>\n",
       "    <tr>\n",
       "      <th>1534</th>\n",
       "      <td>70.123761</td>\n",
       "      <td>217.425675</td>\n",
       "      <td>193.519804</td>\n",
       "    </tr>\n",
       "    <tr>\n",
       "      <th>1535</th>\n",
       "      <td>69.883451</td>\n",
       "      <td>181.674739</td>\n",
       "      <td>192.087119</td>\n",
       "    </tr>\n",
       "    <tr>\n",
       "      <th>1536</th>\n",
       "      <td>71.528424</td>\n",
       "      <td>192.072947</td>\n",
       "      <td>201.894135</td>\n",
       "    </tr>\n",
       "  </tbody>\n",
       "</table>\n",
       "<p>1537 rows × 3 columns</p>\n",
       "</div>"
      ],
      "text/plain": [
       "      male_X_test_height_only  male_y_test   male_pred\n",
       "0                   68.829334   195.162042  185.802675\n",
       "1                   66.398128   170.217451  171.308295\n",
       "2                   71.929340   215.049660  204.284318\n",
       "3                   67.042903   182.721452  175.152318\n",
       "4                   66.045444   169.326284  169.205658\n",
       "...                       ...          ...         ...\n",
       "1532                70.309778   208.496497  194.628798\n",
       "1533                66.276138   174.209764  170.581015\n",
       "1534                70.123761   217.425675  193.519804\n",
       "1535                69.883451   181.674739  192.087119\n",
       "1536                71.528424   192.072947  201.894135\n",
       "\n",
       "[1537 rows x 3 columns]"
      ]
     },
     "execution_count": 36,
     "metadata": {},
     "output_type": "execute_result"
    }
   ],
   "source": [
    "df_male"
   ]
  },
  {
   "cell_type": "code",
   "execution_count": 37,
   "id": "c28f30ae",
   "metadata": {},
   "outputs": [
    {
     "data": {
      "text/html": [
       "<div>\n",
       "<style scoped>\n",
       "    .dataframe tbody tr th:only-of-type {\n",
       "        vertical-align: middle;\n",
       "    }\n",
       "\n",
       "    .dataframe tbody tr th {\n",
       "        vertical-align: top;\n",
       "    }\n",
       "\n",
       "    .dataframe thead th {\n",
       "        text-align: right;\n",
       "    }\n",
       "</style>\n",
       "<table border=\"1\" class=\"dataframe\">\n",
       "  <thead>\n",
       "    <tr style=\"text-align: right;\">\n",
       "      <th></th>\n",
       "      <th>female_X_test_height_only</th>\n",
       "      <th>female_y_test</th>\n",
       "      <th>female_pred</th>\n",
       "    </tr>\n",
       "  </thead>\n",
       "  <tbody>\n",
       "    <tr>\n",
       "      <th>0</th>\n",
       "      <td>68.687232</td>\n",
       "      <td>173.115813</td>\n",
       "      <td>165.551040</td>\n",
       "    </tr>\n",
       "    <tr>\n",
       "      <th>1</th>\n",
       "      <td>65.310436</td>\n",
       "      <td>136.434393</td>\n",
       "      <td>145.419231</td>\n",
       "    </tr>\n",
       "    <tr>\n",
       "      <th>2</th>\n",
       "      <td>66.759071</td>\n",
       "      <td>150.881330</td>\n",
       "      <td>154.055711</td>\n",
       "    </tr>\n",
       "    <tr>\n",
       "      <th>3</th>\n",
       "      <td>62.598648</td>\n",
       "      <td>114.766882</td>\n",
       "      <td>129.252071</td>\n",
       "    </tr>\n",
       "    <tr>\n",
       "      <th>4</th>\n",
       "      <td>64.001746</td>\n",
       "      <td>118.459624</td>\n",
       "      <td>137.617070</td>\n",
       "    </tr>\n",
       "    <tr>\n",
       "      <th>...</th>\n",
       "      <td>...</td>\n",
       "      <td>...</td>\n",
       "      <td>...</td>\n",
       "    </tr>\n",
       "    <tr>\n",
       "      <th>1458</th>\n",
       "      <td>63.737317</td>\n",
       "      <td>130.280160</td>\n",
       "      <td>136.040596</td>\n",
       "    </tr>\n",
       "    <tr>\n",
       "      <th>1459</th>\n",
       "      <td>66.001685</td>\n",
       "      <td>155.104925</td>\n",
       "      <td>149.540325</td>\n",
       "    </tr>\n",
       "    <tr>\n",
       "      <th>1460</th>\n",
       "      <td>66.673784</td>\n",
       "      <td>148.429128</td>\n",
       "      <td>153.547247</td>\n",
       "    </tr>\n",
       "    <tr>\n",
       "      <th>1461</th>\n",
       "      <td>62.715618</td>\n",
       "      <td>127.938016</td>\n",
       "      <td>129.949425</td>\n",
       "    </tr>\n",
       "    <tr>\n",
       "      <th>1462</th>\n",
       "      <td>62.266592</td>\n",
       "      <td>138.381679</td>\n",
       "      <td>127.272415</td>\n",
       "    </tr>\n",
       "  </tbody>\n",
       "</table>\n",
       "<p>1463 rows × 3 columns</p>\n",
       "</div>"
      ],
      "text/plain": [
       "      female_X_test_height_only  female_y_test  female_pred\n",
       "0                     68.687232     173.115813   165.551040\n",
       "1                     65.310436     136.434393   145.419231\n",
       "2                     66.759071     150.881330   154.055711\n",
       "3                     62.598648     114.766882   129.252071\n",
       "4                     64.001746     118.459624   137.617070\n",
       "...                         ...            ...          ...\n",
       "1458                  63.737317     130.280160   136.040596\n",
       "1459                  66.001685     155.104925   149.540325\n",
       "1460                  66.673784     148.429128   153.547247\n",
       "1461                  62.715618     127.938016   129.949425\n",
       "1462                  62.266592     138.381679   127.272415\n",
       "\n",
       "[1463 rows x 3 columns]"
      ]
     },
     "execution_count": 37,
     "metadata": {},
     "output_type": "execute_result"
    }
   ],
   "source": [
    "df_female"
   ]
  },
  {
   "cell_type": "code",
   "execution_count": 38,
   "id": "b87cdad4",
   "metadata": {},
   "outputs": [
    {
     "data": {
      "image/png": "[encoded data removed]",
      "text/plain": [
       "<Figure size 750x500 with 1 Axes>"
      ]
     },
     "metadata": {
      "needs_background": "light"
     },
     "output_type": "display_data"
    },
    {
     "data": {
      "image/png": "[encoded data removed]",
      "text/plain": [
       "<Figure size 750x500 with 1 Axes>"
      ]
     },
     "metadata": {
      "needs_background": "light"
     },
     "output_type": "display_data"
    }
   ],
   "source": [
    "import matplotlib.pyplot as plt\n",
    "\n",
    "plt.figure(dpi=50, figsize=(15, 10))\n",
    "\n",
    "plt.scatter(df_male.male_X_test_height_only, df_male.male_y_test, color=\"black\")\n",
    "plt.plot(df_male.male_X_test_height_only, df_male.male_pred, color=\"blue\", linewidth=3)\n",
    "\n",
    "plt.xlabel('Male Height (inch)', fontsize = 15)\n",
    "plt.ylabel('Male Weight (lbs)', fontsize = 15)\n",
    "plt.title('Male Weight Prediction Based on Weight', fontsize = 20)\n",
    "\n",
    "plt.show()\n",
    "\n",
    "plt.figure(dpi=50, figsize=(15, 10))\n",
    "\n",
    "plt.scatter(df_female.female_X_test_height_only, df_female.female_y_test, color=\"black\")\n",
    "plt.plot(df_female.female_X_test_height_only, df_female.female_pred, color=\"blue\", linewidth=3)\n",
    "\n",
    "plt.xlabel('Female Height (inch)', fontsize = 15)\n",
    "plt.ylabel('Female Weight (lbs)', fontsize = 15)\n",
    "plt.title('Female Weight Prediction Based on Weight', fontsize = 20)\n",
    "\n",
    "plt.show()"
   ]
  }
 ],
 "metadata": {
  "kernelspec": {
   "display_name": "Python [conda env:flask] *",
   "language": "python",
   "name": "conda-env-flask-py"
  },
  "language_info": {
   "codemirror_mode": {
    "name": "ipython",
    "version": 3
   },
   "file_extension": ".py",
   "mimetype": "text/x-python",
   "name": "python",
   "nbconvert_exporter": "python",
   "pygments_lexer": "ipython3",
   "version": "3.8.12"
  }
 },
 "nbformat": 4,
 "nbformat_minor": 5
}
